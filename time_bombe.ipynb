{
 "cells": [
  {
   "cell_type": "code",
   "execution_count": 74,
   "metadata": {},
   "outputs": [],
   "source": [
    "class Carte():\n",
    "    def __init__(self, num, type):\n",
    "        self.num = num\n",
    "        self.type = type\n",
    "        self.coupe = False\n",
    "def init_paquet():\n",
    "    PAQUET = {}\n",
    "    PAQUET[0] = Carte(0,\"BOMBE\")\n",
    "    for i in range(1,NB_FILES+1):\n",
    "        PAQUET[i]= Carte(i,\"FILE\")\n",
    "\n",
    "    for i in range(NB_FILES+1, NB_CARTES):\n",
    "        PAQUET[i]= Carte(i,\"NEUTRE\")\n",
    "    return PAQUET"
   ]
  },
  {
   "cell_type": "code",
   "execution_count": 75,
   "metadata": {},
   "outputs": [],
   "source": [
    "class Joueur():\n",
    "    def __init__(self, num, role):\n",
    "        self.num = num\n",
    "        self.role = role\n",
    "        self.main = []\n",
    "        self.annonce_bombe = 0\n",
    "        self.annonce_file = 0\n",
    "def init_joueurs():\n",
    "    joueurs = {}\n",
    "    for i in range(NB_GENTILS):\n",
    "        joueurs[i] = Joueur(i, 'GENTIL')\n",
    "    for i in range(NB_GENTILS, NB_JOUEURS):\n",
    "        joueurs[i] = Joueur(i, 'MECHANT')\n",
    "    return joueurs"
   ]
  },
  {
   "cell_type": "code",
   "execution_count": 96,
   "metadata": {},
   "outputs": [],
   "source": [
    "from random import randrange\n",
    "\n",
    "def distribution(paquet, nb_cartes,joueurs):\n",
    "    for j in joueurs:\n",
    "        joueurs[j].main=[]\n",
    "    for i in paquet:\n",
    "        if paquet[i].coupe == False:\n",
    "            flag=False\n",
    "            while flag==False:\n",
    "                num_joueur = randrange(NB_JOUEURS)\n",
    "                if len(joueurs[num_joueur].main) < nb_cartes:\n",
    "                    joueurs[num_joueur].main.append(i)\n",
    "                    print(f'add card {i} to J {num_joueur}')\n",
    "                    flag=True\n",
    "    return joueurs"
   ]
  },
  {
   "cell_type": "code",
   "execution_count": 80,
   "metadata": {},
   "outputs": [],
   "source": [
    "def afficher_carte_joueur(num_joueur):\n",
    "    print(f\"Main J{num_joueur}\")\n",
    "    for i in JOUEURS[num_joueur].main:\n",
    "        print(paquet[i].type)"
   ]
  },
  {
   "cell_type": "code",
   "execution_count": 81,
   "metadata": {},
   "outputs": [],
   "source": [
    "def couper(num_joueur_couper, id_carte):\n",
    "    id_carte_paquet= JOUEURS[num_joueur_couper].main[id_carte]\n",
    "    paquet[id_carte_paquet].coupe=True\n",
    "    JOUEURS[num_joueur_couper].main.remove(id_carte_paquet)\n",
    "    print(paquet[id_carte_paquet].type)"
   ]
  },
  {
   "cell_type": "code",
   "execution_count": 102,
   "metadata": {},
   "outputs": [
    {
     "name": "stdout",
     "output_type": "stream",
     "text": [
      "add card 0 to J 0\n",
      "add card 1 to J 1\n",
      "add card 2 to J 1\n",
      "add card 3 to J 0\n",
      "add card 4 to J 2\n",
      "add card 5 to J 1\n",
      "add card 6 to J 0\n",
      "add card 7 to J 2\n",
      "add card 8 to J 1\n",
      "add card 9 to J 2\n",
      "add card 10 to J 1\n",
      "add card 11 to J 2\n",
      "add card 12 to J 0\n",
      "add card 13 to J 0\n",
      "add card 14 to J 2\n"
     ]
    }
   ],
   "source": [
    "def creer_partie():\n",
    "    NB_JOUEURS = 3\n",
    "    NB_MECHANTS = 1\n",
    "    NB_GENTILS = 2\n",
    "    NB_BOMBE = 1\n",
    "    NB_FILES = NB_JOUEURS\n",
    "    NB_NEUTRE = NB_JOUEURS * 4 - 1\n",
    "    NB_CARTES =  NB_BOMBE+ NB_FILES+ NB_NEUTRE\n",
    "    paquet = init_paquet()\n",
    "    JOUEURS = init_joueurs()\n",
    "    JOUEURS=distribution(paquet, 5,JOUEURS)\n",
    "    return NB_JOUEURS, paquet, JOUEURS\n",
    "\n",
    "NB_JOUEURS, paquet, JOUEURS = creer_partie()"
   ]
  },
  {
   "cell_type": "code",
   "execution_count": 103,
   "metadata": {},
   "outputs": [
    {
     "name": "stdout",
     "output_type": "stream",
     "text": [
      "Main J0\n",
      "BOMBE\n",
      "FILE\n",
      "NEUTRE\n",
      "NEUTRE\n",
      "NEUTRE\n",
      "Main J1\n",
      "FILE\n",
      "FILE\n",
      "NEUTRE\n",
      "NEUTRE\n",
      "NEUTRE\n",
      "Main J2\n",
      "NEUTRE\n",
      "NEUTRE\n",
      "NEUTRE\n",
      "NEUTRE\n",
      "NEUTRE\n"
     ]
    }
   ],
   "source": [
    "afficher_carte_joueur(0)\n",
    "afficher_carte_joueur(1)\n",
    "afficher_carte_joueur(2)"
   ]
  },
  {
   "cell_type": "code",
   "execution_count": 104,
   "metadata": {},
   "outputs": [
    {
     "name": "stdout",
     "output_type": "stream",
     "text": [
      "FILE\n",
      "NEUTRE\n",
      "NEUTRE\n"
     ]
    }
   ],
   "source": [
    "couper(0, 1)\n",
    "couper(1,3)\n",
    "couper(0,2)"
   ]
  },
  {
   "cell_type": "code",
   "execution_count": 105,
   "metadata": {},
   "outputs": [
    {
     "name": "stdout",
     "output_type": "stream",
     "text": [
      "add card 0 to J 1\n",
      "add card 1 to J 0\n",
      "add card 2 to J 0\n",
      "add card 4 to J 0\n",
      "add card 5 to J 1\n",
      "add card 6 to J 1\n",
      "add card 7 to J 1\n",
      "add card 9 to J 2\n",
      "add card 10 to J 0\n",
      "add card 11 to J 2\n",
      "add card 13 to J 2\n",
      "add card 14 to J 2\n"
     ]
    },
    {
     "data": {
      "text/plain": [
       "{0: <__main__.Joueur at 0x22e93096408>,\n",
       " 1: <__main__.Joueur at 0x22e9309f788>,\n",
       " 2: <__main__.Joueur at 0x22e9309f208>}"
      ]
     },
     "execution_count": 105,
     "metadata": {},
     "output_type": "execute_result"
    }
   ],
   "source": [
    "distribution(paquet,4,JOUEURS)"
   ]
  },
  {
   "cell_type": "code",
   "execution_count": null,
   "metadata": {},
   "outputs": [],
   "source": [
    "# verifier condition de victoire\n",
    "# ajouter un classe jeu avec nb joueurs et compte les cartes\n",
    "# ajouter le status du coupeur de file"
   ]
  }
 ],
 "metadata": {
  "kernelspec": {
   "display_name": "Python 3.7.10 64-bit (conda)",
   "language": "python",
   "name": "python3"
  },
  "language_info": {
   "codemirror_mode": {
    "name": "ipython",
    "version": 3
   },
   "file_extension": ".py",
   "mimetype": "text/x-python",
   "name": "python",
   "nbconvert_exporter": "python",
   "pygments_lexer": "ipython3",
   "version": "3.7.10"
  },
  "orig_nbformat": 4,
  "vscode": {
   "interpreter": {
    "hash": "64dff3bb8ebe68e7f8b67122f01490f56c0bb5ce902d5af83b1dfd7fcd1bfb69"
   }
  }
 },
 "nbformat": 4,
 "nbformat_minor": 2
}
